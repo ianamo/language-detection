{
 "cells": [
  {
   "cell_type": "markdown",
   "id": "e91b4525",
   "metadata": {},
   "source": [
    "# Language Detection by Average Letter Distribution\n",
    "\n",
    "**Author:** Ian Mosley\n",
    "**Email:** ianamo86@gmail.com\n",
    "\n",
    "When we see a language we don't know, we can nevertheless get a sense of what language we're looking at by the shapes of words and their component letters. We see a word like _tschüss_ and get the impression that such a combination of letters is probably German, even though the word itself may mean nothing to us. What we are intuitively picking up on here is that different languages are characterized by different distributions of letters. What if we could build a model to _identify_ some text as belonging to one language or another by these signature distributions? "
   ]
  },
  {
   "cell_type": "code",
   "execution_count": 1,
   "id": "6fc3afbe",
   "metadata": {},
   "outputs": [],
   "source": [
    "import pylab as plt\n",
    "from string import ascii_lowercase as abc\n",
    "\n",
    "ENGLISH_CORPUS = 'english-corp.txt'\n",
    "LATIN_CORPUS = 'lat-corp.txt'\n",
    "GERMAN_CORPUS = 'german.txt'\n",
    "DUTCH_CORPUS = 'dutch.txt'\n",
    "ITALIAN_CORPUS = 'italian.txt'\n",
    "SPANISH_CORPUS = 'spanish.txt'\n",
    "FRENCH_CORPUS = 'french.txt'\n",
    "PORTUGUESE_CORPUS = 'portuguese.txt'\n",
    "TEST = 'test.txt'\n",
    "\n",
    "default_corpora = {\n",
    "    'Latin':LATIN_CORPUS,\n",
    "    'English':ENGLISH_CORPUS,\n",
    "    'German':GERMAN_CORPUS,\n",
    "    'Dutch':DUTCH_CORPUS,\n",
    "    'Italian':ITALIAN_CORPUS,\n",
    "    'Spanish':SPANISH_CORPUS,\n",
    "    'French':FRENCH_CORPUS,\n",
    "    'Portuguese':PORTUGUESE_CORPUS\n",
    "    }"
   ]
  },
  {
   "cell_type": "markdown",
   "id": "1aac0f54",
   "metadata": {},
   "source": [
    "To analyze letter distribution, we'll need some corpora to process. Here we have some representative selections, none very long -- technically we will want enough text that every letter used in the language can appear once, which may take anywhere from a few thousand characters to tens of thousands. It is by no means necessary to, say, load the collected works of Shakespeare of something the size of a Norton anthology. "
   ]
  },
  {
   "cell_type": "code",
   "execution_count": 2,
   "id": "3e22204b",
   "metadata": {},
   "outputs": [],
   "source": [
    "class LangModel(object):\n",
    "    def __init__(self, text=None, name=\"Sample\"):\n",
    "        self.uniq_chars = []\n",
    "        self.freq = {}\n",
    "        self.text = text\n",
    "        self.name = name\n",
    "        if self.text:\n",
    "            self.process_text()\n",
    "    \n",
    "    def __str__(self):\n",
    "        return self.name\n",
    "        \n",
    "    def load_text_from_file(self,filename):\n",
    "        try:\n",
    "            with open(filename,'r') as data:\n",
    "                self.text = data.read()\n",
    "        except FileNotFoundError:\n",
    "            print(\"Problem accessing file.\")\n",
    "        self.process_text()\n",
    "    \n",
    "    def process_text(self):\n",
    "        raise NotImplementedError()\n",
    "        \n",
    "    def analyze(self):\n",
    "        raise NotImplementedError()\n",
    "    \n",
    "    def compare(self, other):\n",
    "        raise NotImplementedError()"
   ]
  },
  {
   "cell_type": "markdown",
   "id": "851d5689",
   "metadata": {},
   "source": [
    "This Python object will be our base model to create more specific language models. Other than that, not much of interest here, so let's go on to our model for letter distribution."
   ]
  },
  {
   "cell_type": "code",
   "execution_count": 3,
   "id": "54b99970",
   "metadata": {},
   "outputs": [],
   "source": [
    "class LetterModel(LangModel):\n",
    "    def __init__(self, text=None, name=\"Sample\"):\n",
    "        LangModel.__init__(self,text,name)\n",
    "            \n",
    "    def process_text(self):\n",
    "        if not self.text:\n",
    "            raise ValueError(\"Text not set.\")\n",
    "        \n",
    "        text = []\n",
    "        for token in self.text.split():\n",
    "            word = []\n",
    "            for char in token:\n",
    "                if char in abc:\n",
    "                    word.append(char)\n",
    "            text.append(\"\".join(word))\n",
    "        self.text = \"\".join(text)\n",
    "        self.token_length = len(self.text)\n",
    "        \n",
    "    def get_token_len(self):\n",
    "        return self.token_length\n",
    "    \n",
    "    def get_tokens(self):\n",
    "        return self.text\n",
    "    \n",
    "    def set_text(self, text):\n",
    "        self.text = text\n",
    "        self.process_text()\n",
    "        self.analyze()\n",
    "    \n",
    "    def unique_letters(self):\n",
    "        letters = []\n",
    "        for w in self.text:\n",
    "            for c in w:\n",
    "                if c not in letters:\n",
    "                    letters.append(c)\n",
    "        self.uniq_chars = sorted(letters)    \n",
    "    \n",
    "    def analyze(self):\n",
    "        if not self.text:\n",
    "            raise ValueError(\"Text not set.\")\n",
    "        \n",
    "        self.unique_letters()\n",
    "        \n",
    "        frq = self.generate_freq_dict()\n",
    "        for k in frq:\n",
    "            self.freq[k] = frq[k] / len(self.text)    \n",
    "    \n",
    "    def generate_freq_dict(self):\n",
    "        fdict = {}\n",
    "        for el in self.text:\n",
    "            try:\n",
    "                fdict[el] +=1\n",
    "            except KeyError:\n",
    "                fdict[el] = 1\n",
    "        return fdict\n",
    "    \n",
    "    def plot(self, title=None, args='k'):\n",
    "        if len(self.freq)<1:\n",
    "            raise ValueError(\"Must analyze text before plotting.\")\n",
    "        \n",
    "        x = self.uniq_chars\n",
    "        y = []\n",
    "        \n",
    "        for c in x:\n",
    "            try:\n",
    "                y.append((self.freq[c]))\n",
    "            except KeyError():\n",
    "                y.append(0)\n",
    "        plt.figure()\n",
    "        if title:\n",
    "            plt.title(title)\n",
    "        else:\n",
    "            title = f\"Letter Frequency in {self.name}\"\n",
    "            plt.title(title)\n",
    "        plt.plot(x, y, args)\n",
    "        plt.show()\n",
    "    \n",
    "    def compare(self, other, verbose=False):\n",
    "        tot = 0\n",
    "        for c in self.uniq_chars:\n",
    "            try:\n",
    "                tot+=(self.freq[c]-other.freq[c])**2\n",
    "            except KeyError:\n",
    "                if verbose:\n",
    "                    print(f\"{c} has no equivalent in {other}\")\n",
    "        return tot"
   ]
  },
  {
   "cell_type": "markdown",
   "id": "99b3c2e2",
   "metadata": {},
   "source": [
    "The `LetterModel` object is the meat of our program, which isn't terribly complicated. It loads the text from our corpus file, breaks it up into letters, and analyzes those letters by frequency. It compares itself to other possible letter models in a way similar to computing the variance of a set. Let's look at some of these signature letter distributions..."
   ]
  },
  {
   "cell_type": "code",
   "execution_count": 4,
   "id": "4db77d15",
   "metadata": {},
   "outputs": [
    {
     "data": {
      "image/png": "[encoded data removed]",
      "text/plain": [
       "<Figure size 640x480 with 1 Axes>"
      ]
     },
     "metadata": {},
     "output_type": "display_data"
    },
    {
     "data": {
      "image/png": "[encoded data removed]",
      "text/plain": [
       "<Figure size 640x480 with 1 Axes>"
      ]
     },
     "metadata": {},
     "output_type": "display_data"
    }
   ],
   "source": [
    "eng = LetterModel(name=\"English\")\n",
    "eng.load_text_from_file(ENGLISH_CORPUS)\n",
    "eng.analyze()\n",
    "eng.plot()\n",
    "ital = LetterModel(name=\"Italian\")\n",
    "ital.load_text_from_file(ITALIAN_CORPUS)\n",
    "ital.analyze()\n",
    "ital.plot()"
   ]
  },
  {
   "cell_type": "markdown",
   "id": "9884417f",
   "metadata": {},
   "source": [
    "Here we see the _fingerprints_, so to speak, of how two different languages distribute their letters on average. As you can see, they work out as simple linear models. Now, our goal is ultimately to take a sample of text in an unknown language and determine its language by its distribution of letters. To accomplish this, let's implement the `LangTest` class."
   ]
  },
  {
   "cell_type": "code",
   "execution_count": 5,
   "id": "762ea0d3",
   "metadata": {},
   "outputs": [],
   "source": [
    "class LangTest(object):\n",
    "    def __init__(self, model):\n",
    "        self.model = model\n",
    "        self.languages = []\n",
    "        \n",
    "    def add(self, language, corpus):\n",
    "        m = self.model(name=language)\n",
    "        m.load_text_from_file(corpus)\n",
    "        m.analyze()\n",
    "        self.languages.append(m)\n",
    "        \n",
    "    def test(self, sample,exclude=[]):\n",
    "        deltas = {}\n",
    "        lowest = 1\n",
    "        best_match = None\n",
    "        for l in self.languages:\n",
    "            if l in exclude:\n",
    "                pass\n",
    "            else:\n",
    "                deltas[l.name] = l.compare(sample)\n",
    "                if deltas[l.name] < lowest:\n",
    "                    best_match = l.name\n",
    "                    lowest = deltas[l.name]\n",
    "        return (best_match,deltas)\n",
    "    \n",
    "    def compare(self):\n",
    "        comp = {}\n",
    "        for l in self.languages:\n",
    "            comp[l.name] = self.test(l,exclude=[l])\n",
    "        return comp"
   ]
  },
  {
   "cell_type": "markdown",
   "id": "81286a5b",
   "metadata": {},
   "source": [
    "The `LangTest` object will help us organize our `LetterModel` (or any other variety of the `LangModel` types of objects we choose) and to use them as functions to compare them to a sample (which will also be a `LetterModel` or similar type object). Another interesting feature of this class is that it allows us to make comparisons between which languages are similar (or not) in their letter distributions. Before we implement that, let's add a quick helper function to make adding corpora easier."
   ]
  },
  {
   "cell_type": "code",
   "execution_count": 6,
   "id": "f58bc971",
   "metadata": {},
   "outputs": [],
   "source": [
    "def load_corpora(tester, corpora):\n",
    "    \"\"\"\n",
    "    Helper function to load many corpora at once into a LangTest object. \n",
    "    Input:\n",
    "        tester -- a LangTest object to load corpora onto\n",
    "        corpora -- a hash of language names linked to filenames of corpora to analyze\n",
    "    Output:\n",
    "        a LangTest object with all corpora loaded\n",
    "    \"\"\"\n",
    "    for k in corpora:\n",
    "        tester.add(k,corpora[k])\n",
    "    return tester"
   ]
  },
  {
   "cell_type": "code",
   "execution_count": 7,
   "id": "a062cffd",
   "metadata": {
    "scrolled": true
   },
   "outputs": [
    {
     "name": "stdout",
     "output_type": "stream",
     "text": [
      "Latin's closest language in distribution is French\n",
      "English's closest language in distribution is French\n",
      "German's closest language in distribution is Dutch\n",
      "Dutch's closest language in distribution is German\n",
      "Italian's closest language in distribution is Spanish\n",
      "Spanish's closest language in distribution is Portuguese\n",
      "French's closest language in distribution is Latin\n",
      "Portuguese's closest language in distribution is Spanish\n"
     ]
    }
   ],
   "source": [
    "tester = LangTest(LetterModel)\n",
    "tester = load_corpora(tester,default_corpora)\n",
    "data = tester.compare()\n",
    "for k in data:\n",
    "    print(f\"{k}'s closest language in distribution is {data[k][0]}\")"
   ]
  },
  {
   "cell_type": "markdown",
   "id": "fdce7509",
   "metadata": {},
   "source": [
    "Interestingly, the relationships here are not necessarily reciprocal. Latin's closest language is French, and French's is Latin, unsurprisingly, but English's closest language is _also_ French. Even a thousand years after the conquest, English's affection for French is not exactly requited! Let's try now to use our models to detect the language of some sample..."
   ]
  },
  {
   "cell_type": "code",
   "execution_count": 11,
   "id": "bf49c96c",
   "metadata": {},
   "outputs": [
    {
     "data": {
      "text/plain": [
       "('French',\n",
       " {'Latin': 0.00896220224339722,\n",
       "  'English': 0.010167664066418515,\n",
       "  'German': 0.009686559141935083,\n",
       "  'Dutch': 0.013921920537425381,\n",
       "  'Italian': 0.009976913102523957,\n",
       "  'Spanish': 0.011854420180583204,\n",
       "  'French': 0.0037239881014857657,\n",
       "  'Portuguese': 0.018603878745604242})"
      ]
     },
     "execution_count": 11,
     "metadata": {},
     "output_type": "execute_result"
    }
   ],
   "source": [
    "sample_string=\"Il y a aujourd’hui trois cent quarante-huit ans six mois et dix-neuf jours que les Parisiens s’éveillèrent au bruit de toutes les cloches sonnant à grande volée dans la triple enceinte de la Cité, de l’Université et de la Ville.\"\n",
    "samp = LetterModel(text=sample_string)\n",
    "# Opening line to Notre-Dame de Paris by Victor Hugo\n",
    "samp.analyze()\n",
    "tester.test(samp)"
   ]
  },
  {
   "cell_type": "markdown",
   "id": "808ebf60",
   "metadata": {},
   "source": [
    "French comes out on top, followed not surprisingly by Latin, for which, as we saw, French has a great affinity, and then not long after that by German. This result was achieved, again, by a simple linear model being compared with a sample of pretty modest size:"
   ]
  },
  {
   "cell_type": "code",
   "execution_count": 9,
   "id": "ecdd18b2",
   "metadata": {
    "scrolled": true
   },
   "outputs": [
    {
     "data": {
      "text/plain": [
       "171"
      ]
     },
     "execution_count": 9,
     "metadata": {},
     "output_type": "execute_result"
    }
   ],
   "source": [
    "samp.get_token_len()"
   ]
  },
  {
   "cell_type": "markdown",
   "id": "1a02d48e",
   "metadata": {},
   "source": [
    "Which provokes the question: how large of a sample do we need to obtain reliable results? One way to answer this question is to whittle down our sample until we start getting wrong answers. Our function `testModel()` will do just that:"
   ]
  },
  {
   "cell_type": "code",
   "execution_count": 19,
   "id": "11856221",
   "metadata": {},
   "outputs": [
    {
     "data": {
      "text/plain": [
       "87"
      ]
     },
     "execution_count": 19,
     "metadata": {},
     "output_type": "execute_result"
    }
   ],
   "source": [
    "def testModel(model, corpora, sample_str,lang,verbose=False):\n",
    "    \"\"\"\n",
    "    Input: \n",
    "        model -- an object in the LangModel family\n",
    "        corpora -- a hash of language names linked to file names of corpora to analyze to create a language model\n",
    "        sample_str -- a string of some language to be determined\n",
    "        lang -- language name\n",
    "    \n",
    "    \"\"\"\n",
    "    tester = LangTest(model)\n",
    "    tester = load_corpora(tester,corpora)\n",
    "    for i in range(len(sample_str)-1):\n",
    "        sample = model(text=sample_str[i:])\n",
    "        sample.analyze()\n",
    "        ans, deltas = tester.test(sample)\n",
    "        if verbose:\n",
    "            print(deltas)\n",
    "            vals = sorted(deltas.values())\n",
    "            diff = (vals[1] - vals[0])/vals[1]\n",
    "            percent = round(diff * 100, ndigits=2)\n",
    "            print(f\"The answer is {ans}. The difference between the top two answers was {percent}%. Length of sample was {sample.get_token_len()}.\")\n",
    "        if ans != lang:\n",
    "            vals = sorted(deltas.values())\n",
    "            diff = (vals[1] - vals[0])/vals[1]\n",
    "            percent = round(diff * 100, ndigits=2)\n",
    "            if verbose:\n",
    "                print(f\"The answer is {ans}. The difference between the top two answers was {percent}%. Length of sample was {sample.get_token_len()}.\")\n",
    "            break\n",
    "    return sample.get_token_len()\n",
    "\n",
    "testModel(LetterModel,default_corpora,sample_string,'French')"
   ]
  },
  {
   "cell_type": "markdown",
   "id": "fc8ee503",
   "metadata": {},
   "source": [
    "It seems this particular example breaks down when there are only 87 characters left, at which point the model fails to distinguish it from Dutch. Interestingly, the first incorrect answer is Dutch, and not Latin, as we might expect--the sample has become so small that it is unrepresentative and the usual relationships between distributions have become unpredictable. Let's try doing this with a larger example and see if we can draw some reasonable conclusions about the sample size we need. (This test requires a bit of time to run.)"
   ]
  },
  {
   "cell_type": "code",
   "execution_count": 22,
   "id": "5d86f599",
   "metadata": {},
   "outputs": [
    {
     "name": "stdout",
     "output_type": "stream",
     "text": [
      "590\n",
      "Average was 55.01864406779661 SD=44.98705642314326\n"
     ]
    }
   ],
   "source": [
    "with open(TEST) as file:\n",
    "    test_string = file.read()\n",
    "    \n",
    "substrings = []\n",
    "for i in range(0,len(test_string),250):\n",
    "    try:\n",
    "        substrings.append(test_string[i:i+250])\n",
    "    except IndexError:\n",
    "        break\n",
    "\n",
    "print(len(substrings))\n",
    "\n",
    "minLengths=[]\n",
    "for s in substrings:\n",
    "    num = testModel(LetterModel,default_corpora,s,'English')\n",
    "    minLengths.append(num)\n",
    "print(f\"Average was {sum(minLengths)/len(minLengths)} SD={plt.std(minLengths)}\")"
   ]
  },
  {
   "cell_type": "markdown",
   "id": "056b939b",
   "metadata": {},
   "source": [
    "So we see that we can get very reliable accuracy with a sample size of >100.\n",
    "\n",
    "## Conclusion\n",
    "\n",
    "Overall, then, we have seen --\n",
    "\n",
    "* Languages are characterized by distinct distributions of letters\n",
    "* These can be modeled from texts of comparatively modest size (thousands of characters on average), and thus\n",
    "* Are easily trained\n",
    "* They accurately identify languages from modest-sized samples (a hundred or more characters in some cases)\n",
    "* Work very quickly, requiring only modest computational power (i.e. no GPUs or anything of that sort)\n",
    "\n",
    "Further inquiry might be done on other possible implementations of `LangModel`. A model based only on distribution of the first and last letters of words might be very effective, one suspects, as it would discriminate between relatively inflected and relatively uninflected languages. Another approach could be an additive algorithm -- one that would trace letter distribution and also, for example, average word length. "
   ]
  }
 ],
 "metadata": {
  "kernelspec": {
   "display_name": "Python 3 (ipykernel)",
   "language": "python",
   "name": "python3"
  },
  "language_info": {
   "codemirror_mode": {
    "name": "ipython",
    "version": 3
   },
   "file_extension": ".py",
   "mimetype": "text/x-python",
   "name": "python",
   "nbconvert_exporter": "python",
   "pygments_lexer": "ipython3",
   "version": "3.11.7"
  }
 },
 "nbformat": 4,
 "nbformat_minor": 5
}
